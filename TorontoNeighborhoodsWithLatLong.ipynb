{
 "cells": [
  {
   "cell_type": "markdown",
   "metadata": {},
   "source": [
    "In this notebook I will be scraping information from Wikipedia about the division of the city of Toronto into neighborhoods by postal code, and formatting the information into a pandas dataframe.\n",
    "\n",
    "The Wikipedia page containing this information can be found here: https://en.wikipedia.org/wiki/List_of_postal_codes_of_Canada:_M"
   ]
  },
  {
   "cell_type": "code",
   "execution_count": 1,
   "metadata": {},
   "outputs": [],
   "source": [
    "from bs4 import BeautifulSoup\n",
    "import requests"
   ]
  },
  {
   "cell_type": "markdown",
   "metadata": {},
   "source": [
    "First, get the Wikipedia page using <em>requests.get</em> and prettify for readability."
   ]
  },
  {
   "cell_type": "code",
   "execution_count": 122,
   "metadata": {},
   "outputs": [],
   "source": [
    "wikipedia_link='https://en.wikipedia.org/wiki/List_of_postal_codes_of_Canada:_M'\n",
    "wikipage=requests.get(wikipedia_link).text\n",
    "soup = BeautifulSoup(wikipage,'lxml')\n",
    "print(soup.prettify())"
   ]
  },
  {
   "cell_type": "markdown",
   "metadata": {},
   "source": [
    "The relevant portion of the page is the table, type \"wikitable sortable\" so next separate this out as code_table:"
   ]
  },
  {
   "cell_type": "code",
   "execution_count": 8,
   "metadata": {},
   "outputs": [],
   "source": [
    "code_table = soup.find('table',{'class':'wikitable sortable'})"
   ]
  },
  {
   "cell_type": "markdown",
   "metadata": {},
   "source": [
    "For each row in the table, obtain the text in that row. Add it to a list of all rows."
   ]
  },
  {
   "cell_type": "code",
   "execution_count": 56,
   "metadata": {},
   "outputs": [
    {
     "name": "stdout",
     "output_type": "stream",
     "text": [
      "[['M1A', 'Not assigned', 'Not assigned'], ['M2A', 'Not assigned', 'Not assigned'], ['M3A', 'North York', 'Parkwoods'], ['M4A', 'North York', 'Victoria Village'], ['M5A', 'Downtown Toronto', 'Harbourfront'], ['M5A', 'Downtown Toronto', 'Regent Park'], ['M6A', 'North York', 'Lawrence Heights'], ['M6A', 'North York', 'Lawrence Manor'], ['M7A', \"Queen's Park\", 'Not assigned'], ['M8A', 'Not assigned', 'Not assigned'], ['M9A', 'Etobicoke', 'Islington Avenue'], ['M1B', 'Scarborough', 'Rouge'], ['M1B', 'Scarborough', 'Malvern'], ['M2B', 'Not assigned', 'Not assigned'], ['M3B', 'North York', 'Don Mills North'], ['M4B', 'East York', 'Woodbine Gardens'], ['M4B', 'East York', 'Parkview Hill'], ['M5B', 'Downtown Toronto', 'Ryerson'], ['M5B', 'Downtown Toronto', 'Garden District'], ['M6B', 'North York', 'Glencairn'], ['M7B', 'Not assigned', 'Not assigned'], ['M8B', 'Not assigned', 'Not assigned'], ['M9B', 'Etobicoke', 'Cloverdale'], ['M9B', 'Etobicoke', 'Islington'], ['M9B', 'Etobicoke', 'Martin Grove'], ['M9B', 'Etobicoke', 'Princess Gardens'], ['M9B', 'Etobicoke', 'West Deane Park'], ['M1C', 'Scarborough', 'Highland Creek'], ['M1C', 'Scarborough', 'Rouge Hill'], ['M1C', 'Scarborough', 'Port Union'], ['M2C', 'Not assigned', 'Not assigned'], ['M3C', 'North York', 'Flemingdon Park'], ['M3C', 'North York', 'Don Mills South'], ['M4C', 'East York', 'Woodbine Heights'], ['M5C', 'Downtown Toronto', 'St. James Town'], ['M6C', 'York', 'Humewood-Cedarvale'], ['M7C', 'Not assigned', 'Not assigned'], ['M8C', 'Not assigned', 'Not assigned'], ['M9C', 'Etobicoke', 'Bloordale Gardens'], ['M9C', 'Etobicoke', 'Eringate'], ['M9C', 'Etobicoke', 'Markland Wood'], ['M9C', 'Etobicoke', 'Old Burnhamthorpe'], ['M1E', 'Scarborough', 'Guildwood'], ['M1E', 'Scarborough', 'Morningside'], ['M1E', 'Scarborough', 'West Hill'], ['M2E', 'Not assigned', 'Not assigned'], ['M3E', 'Not assigned', 'Not assigned'], ['M4E', 'East Toronto', 'The Beaches'], ['M5E', 'Downtown Toronto', 'Berczy Park'], ['M6E', 'York', 'Caledonia-Fairbanks'], ['M7E', 'Not assigned', 'Not assigned'], ['M8E', 'Not assigned', 'Not assigned'], ['M9E', 'Not assigned', 'Not assigned'], ['M1G', 'Scarborough', 'Woburn'], ['M2G', 'Not assigned', 'Not assigned'], ['M3G', 'Not assigned', 'Not assigned'], ['M4G', 'East York', 'Leaside'], ['M5G', 'Downtown Toronto', 'Central Bay Street'], ['M6G', 'Downtown Toronto', 'Christie'], ['M7G', 'Not assigned', 'Not assigned'], ['M8G', 'Not assigned', 'Not assigned'], ['M9G', 'Not assigned', 'Not assigned'], ['M1H', 'Scarborough', 'Cedarbrae'], ['M2H', 'North York', 'Hillcrest Village'], ['M3H', 'North York', 'Bathurst Manor'], ['M3H', 'North York', 'Downsview North'], ['M3H', 'North York', 'Wilson Heights'], ['M4H', 'East York', 'Thorncliffe Park'], ['M5H', 'Downtown Toronto', 'Adelaide'], ['M5H', 'Downtown Toronto', 'King'], ['M5H', 'Downtown Toronto', 'Richmond'], ['M6H', 'West Toronto', 'Dovercourt Village'], ['M6H', 'West Toronto', 'Dufferin'], ['M7H', 'Not assigned', 'Not assigned'], ['M8H', 'Not assigned', 'Not assigned'], ['M9H', 'Not assigned', 'Not assigned'], ['M1J', 'Scarborough', 'Scarborough Village'], ['M2J', 'North York', 'Fairview'], ['M2J', 'North York', 'Henry Farm'], ['M2J', 'North York', 'Oriole'], ['M3J', 'North York', 'Northwood Park'], ['M3J', 'North York', 'York University'], ['M4J', 'East York', 'East Toronto'], ['M5J', 'Downtown Toronto', 'Harbourfront East'], ['M5J', 'Downtown Toronto', 'Toronto Islands'], ['M5J', 'Downtown Toronto', 'Union Station'], ['M6J', 'West Toronto', 'Little Portugal'], ['M6J', 'West Toronto', 'Trinity'], ['M7J', 'Not assigned', 'Not assigned'], ['M8J', 'Not assigned', 'Not assigned'], ['M9J', 'Not assigned', 'Not assigned'], ['M1K', 'Scarborough', 'East Birchmount Park'], ['M1K', 'Scarborough', 'Ionview'], ['M1K', 'Scarborough', 'Kennedy Park'], ['M2K', 'North York', 'Bayview Village'], ['M3K', 'North York', 'CFB Toronto'], ['M3K', 'North York', 'Downsview East'], ['M4K', 'East Toronto', 'The Danforth West'], ['M4K', 'East Toronto', 'Riverdale'], ['M5K', 'Downtown Toronto', 'Design Exchange'], ['M5K', 'Downtown Toronto', 'Toronto Dominion Centre'], ['M6K', 'West Toronto', 'Brockton'], ['M6K', 'West Toronto', 'Exhibition Place'], ['M6K', 'West Toronto', 'Parkdale Village'], ['M7K', 'Not assigned', 'Not assigned'], ['M8K', 'Not assigned', 'Not assigned'], ['M9K', 'Not assigned', 'Not assigned'], ['M1L', 'Scarborough', 'Clairlea'], ['M1L', 'Scarborough', 'Golden Mile'], ['M1L', 'Scarborough', 'Oakridge'], ['M2L', 'North York', 'Silver Hills'], ['M2L', 'North York', 'York Mills'], ['M3L', 'North York', 'Downsview West'], ['M4L', 'East Toronto', 'The Beaches West'], ['M4L', 'East Toronto', 'India Bazaar'], ['M5L', 'Downtown Toronto', 'Commerce Court'], ['M5L', 'Downtown Toronto', 'Victoria Hotel'], ['M6L', 'North York', 'Maple Leaf Park'], ['M6L', 'North York', 'North Park'], ['M6L', 'North York', 'Upwood Park'], ['M7L', 'Not assigned', 'Not assigned'], ['M8L', 'Not assigned', 'Not assigned'], ['M9L', 'North York', 'Humber Summit'], ['M1M', 'Scarborough', 'Cliffcrest'], ['M1M', 'Scarborough', 'Cliffside'], ['M1M', 'Scarborough', 'Scarborough Village West'], ['M2M', 'North York', 'Newtonbrook'], ['M2M', 'North York', 'Willowdale'], ['M3M', 'North York', 'Downsview Central'], ['M4M', 'East Toronto', 'Studio District'], ['M5M', 'North York', 'Bedford Park'], ['M5M', 'North York', 'Lawrence Manor East'], ['M6M', 'York', 'Del Ray'], ['M6M', 'York', 'Keelesdale'], ['M6M', 'York', 'Mount Dennis'], ['M6M', 'York', 'Silverthorn'], ['M7M', 'Not assigned', 'Not assigned'], ['M8M', 'Not assigned', 'Not assigned'], ['M9M', 'North York', 'Emery'], ['M9M', 'North York', 'Humberlea'], ['M1N', 'Scarborough', 'Birch Cliff'], ['M1N', 'Scarborough', 'Cliffside West'], ['M2N', 'North York', 'Willowdale South'], ['M3N', 'North York', 'Downsview Northwest'], ['M4N', 'Central Toronto', 'Lawrence Park'], ['M5N', 'Central Toronto', 'Roselawn'], ['M6N', 'York', 'The Junction North'], ['M6N', 'York', 'Runnymede'], ['M7N', 'Not assigned', 'Not assigned'], ['M8N', 'Not assigned', 'Not assigned'], ['M9N', 'York', 'Weston'], ['M1P', 'Scarborough', 'Dorset Park'], ['M1P', 'Scarborough', 'Scarborough Town Centre'], ['M1P', 'Scarborough', 'Wexford Heights'], ['M2P', 'North York', 'York Mills West'], ['M3P', 'Not assigned', 'Not assigned'], ['M4P', 'Central Toronto', 'Davisville North'], ['M5P', 'Central Toronto', 'Forest Hill North'], ['M5P', 'Central Toronto', 'Forest Hill West'], ['M6P', 'West Toronto', 'High Park'], ['M6P', 'West Toronto', 'The Junction South'], ['M7P', 'Not assigned', 'Not assigned'], ['M8P', 'Not assigned', 'Not assigned'], ['M9P', 'Etobicoke', 'Westmount'], ['M1R', 'Scarborough', 'Maryvale'], ['M1R', 'Scarborough', 'Wexford'], ['M2R', 'North York', 'Willowdale West'], ['M3R', 'Not assigned', 'Not assigned'], ['M4R', 'Central Toronto', 'North Toronto West'], ['M5R', 'Central Toronto', 'The Annex'], ['M5R', 'Central Toronto', 'North Midtown'], ['M5R', 'Central Toronto', 'Yorkville'], ['M6R', 'West Toronto', 'Parkdale'], ['M6R', 'West Toronto', 'Roncesvalles'], ['M7R', 'Mississauga', 'Canada Post Gateway Processing Centre'], ['M8R', 'Not assigned', 'Not assigned'], ['M9R', 'Etobicoke', 'Kingsview Village'], ['M9R', 'Etobicoke', 'Martin Grove Gardens'], ['M9R', 'Etobicoke', 'Richview Gardens'], ['M9R', 'Etobicoke', 'St. Phillips'], ['M1S', 'Scarborough', 'Agincourt'], ['M2S', 'Not assigned', 'Not assigned'], ['M3S', 'Not assigned', 'Not assigned'], ['M4S', 'Central Toronto', 'Davisville'], ['M5S', 'Downtown Toronto', 'Harbord'], ['M5S', 'Downtown Toronto', 'University of Toronto'], ['M6S', 'West Toronto', 'Runnymede'], ['M6S', 'West Toronto', 'Swansea'], ['M7S', 'Not assigned', 'Not assigned'], ['M8S', 'Not assigned', 'Not assigned'], ['M9S', 'Not assigned', 'Not assigned'], ['M1T', 'Scarborough', 'Clarks Corners'], ['M1T', 'Scarborough', 'Sullivan'], ['M1T', 'Scarborough', \"Tam O'Shanter\"], ['M2T', 'Not assigned', 'Not assigned'], ['M3T', 'Not assigned', 'Not assigned'], ['M4T', 'Central Toronto', 'Moore Park'], ['M4T', 'Central Toronto', 'Summerhill East'], ['M5T', 'Downtown Toronto', 'Chinatown'], ['M5T', 'Downtown Toronto', 'Grange Park'], ['M5T', 'Downtown Toronto', 'Kensington Market'], ['M6T', 'Not assigned', 'Not assigned'], ['M7T', 'Not assigned', 'Not assigned'], ['M8T', 'Not assigned', 'Not assigned'], ['M9T', 'Not assigned', 'Not assigned'], ['M1V', 'Scarborough', 'Agincourt North'], ['M1V', 'Scarborough', \"L'Amoreaux East\"], ['M1V', 'Scarborough', 'Milliken'], ['M1V', 'Scarborough', 'Steeles East'], ['M2V', 'Not assigned', 'Not assigned'], ['M3V', 'Not assigned', 'Not assigned'], ['M4V', 'Central Toronto', 'Deer Park'], ['M4V', 'Central Toronto', 'Forest Hill SE'], ['M4V', 'Central Toronto', 'Rathnelly'], ['M4V', 'Central Toronto', 'South Hill'], ['M4V', 'Central Toronto', 'Summerhill West'], ['M5V', 'Downtown Toronto', 'CN Tower'], ['M5V', 'Downtown Toronto', 'Bathurst Quay'], ['M5V', 'Downtown Toronto', 'Island airport'], ['M5V', 'Downtown Toronto', 'Harbourfront West'], ['M5V', 'Downtown Toronto', 'King and Spadina'], ['M5V', 'Downtown Toronto', 'Railway Lands'], ['M5V', 'Downtown Toronto', 'South Niagara'], ['M6V', 'Not assigned', 'Not assigned'], ['M7V', 'Not assigned', 'Not assigned'], ['M8V', 'Etobicoke', 'Humber Bay Shores'], ['M8V', 'Etobicoke', 'Mimico South'], ['M8V', 'Etobicoke', 'New Toronto'], ['M9V', 'Etobicoke', 'Albion Gardens'], ['M9V', 'Etobicoke', 'Beaumond Heights'], ['M9V', 'Etobicoke', 'Humbergate'], ['M9V', 'Etobicoke', 'Jamestown'], ['M9V', 'Etobicoke', 'Mount Olive'], ['M9V', 'Etobicoke', 'Silverstone'], ['M9V', 'Etobicoke', 'South Steeles'], ['M9V', 'Etobicoke', 'Thistletown'], ['M1W', 'Scarborough', \"L'Amoreaux West\"], ['M1W', 'Scarborough', 'Steeles West'], ['M2W', 'Not assigned', 'Not assigned'], ['M3W', 'Not assigned', 'Not assigned'], ['M4W', 'Downtown Toronto', 'Rosedale'], ['M5W', 'Downtown Toronto', 'Stn A PO Boxes 25 The Esplanade'], ['M6W', 'Not assigned', 'Not assigned'], ['M7W', 'Not assigned', 'Not assigned'], ['M8W', 'Etobicoke', 'Alderwood'], ['M8W', 'Etobicoke', 'Long Branch'], ['M9W', 'Etobicoke', 'Northwest'], ['M1X', 'Scarborough', 'Upper Rouge'], ['M2X', 'Not assigned', 'Not assigned'], ['M3X', 'Not assigned', 'Not assigned'], ['M4X', 'Downtown Toronto', 'Cabbagetown'], ['M4X', 'Downtown Toronto', 'St. James Town'], ['M5X', 'Downtown Toronto', 'First Canadian Place'], ['M5X', 'Downtown Toronto', 'Underground city'], ['M6X', 'Not assigned', 'Not assigned'], ['M7X', 'Not assigned', 'Not assigned'], ['M8X', 'Etobicoke', 'The Kingsway'], ['M8X', 'Etobicoke', 'Montgomery Road'], ['M8X', 'Etobicoke', 'Old Mill North'], ['M9X', 'Not assigned', 'Not assigned'], ['M1Y', 'Not assigned', 'Not assigned'], ['M2Y', 'Not assigned', 'Not assigned'], ['M3Y', 'Not assigned', 'Not assigned'], ['M4Y', 'Downtown Toronto', 'Church and Wellesley'], ['M5Y', 'Not assigned', 'Not assigned'], ['M6Y', 'Not assigned', 'Not assigned'], ['M7Y', 'East Toronto', 'Business reply mail Processing Centre969 Eastern'], ['M8Y', 'Etobicoke', 'Humber Bay'], ['M8Y', 'Etobicoke', \"King's Mill Park\"], ['M8Y', 'Etobicoke', 'Kingsway Park South East'], ['M8Y', 'Etobicoke', 'Mimico NE'], ['M8Y', 'Etobicoke', 'Old Mill South'], ['M8Y', 'Etobicoke', 'The Queensway East'], ['M8Y', 'Etobicoke', 'Royal York South East'], ['M8Y', 'Etobicoke', 'Sunnylea'], ['M9Y', 'Not assigned', 'Not assigned'], ['M1Z', 'Not assigned', 'Not assigned'], ['M2Z', 'Not assigned', 'Not assigned'], ['M3Z', 'Not assigned', 'Not assigned'], ['M4Z', 'Not assigned', 'Not assigned'], ['M5Z', 'Not assigned', 'Not assigned'], ['M6Z', 'Not assigned', 'Not assigned'], ['M7Z', 'Not assigned', 'Not assigned'], ['M8Z', 'Etobicoke', 'Kingsway Park South West'], ['M8Z', 'Etobicoke', 'Mimico NW'], ['M8Z', 'Etobicoke', 'The Queensway West'], ['M8Z', 'Etobicoke', 'Royal York South West'], ['M8Z', 'Etobicoke', 'South of Bloor'], ['M9Z', 'Not assigned', 'Not assigned']]\n"
     ]
    }
   ],
   "source": [
    "rows = code_table.find_all('tr')\n",
    "newtable = []\n",
    "for row in rows:\n",
    "    td = row.find_all('td')\n",
    "    table_entry = [row.text for row in td]\n",
    "    table_entry = [item.rstrip() for item in table_entry] #remove the \"\\n\" from the Neighborhood in each row\n",
    "    if table_entry != []:\n",
    "        newtable.append(table_entry)\n",
    "print(newtable)"
   ]
  },
  {
   "cell_type": "markdown",
   "metadata": {},
   "source": [
    "Next, make this into a dataframe with the correct column names."
   ]
  },
  {
   "cell_type": "code",
   "execution_count": 57,
   "metadata": {},
   "outputs": [
    {
     "data": {
      "text/html": [
       "<div>\n",
       "<style scoped>\n",
       "    .dataframe tbody tr th:only-of-type {\n",
       "        vertical-align: middle;\n",
       "    }\n",
       "\n",
       "    .dataframe tbody tr th {\n",
       "        vertical-align: top;\n",
       "    }\n",
       "\n",
       "    .dataframe thead th {\n",
       "        text-align: right;\n",
       "    }\n",
       "</style>\n",
       "<table border=\"1\" class=\"dataframe\">\n",
       "  <thead>\n",
       "    <tr style=\"text-align: right;\">\n",
       "      <th></th>\n",
       "      <th>Postal Code</th>\n",
       "      <th>Borough</th>\n",
       "      <th>Neighborhood</th>\n",
       "    </tr>\n",
       "  </thead>\n",
       "  <tbody>\n",
       "    <tr>\n",
       "      <th>0</th>\n",
       "      <td>M1A</td>\n",
       "      <td>Not assigned</td>\n",
       "      <td>Not assigned</td>\n",
       "    </tr>\n",
       "    <tr>\n",
       "      <th>1</th>\n",
       "      <td>M2A</td>\n",
       "      <td>Not assigned</td>\n",
       "      <td>Not assigned</td>\n",
       "    </tr>\n",
       "    <tr>\n",
       "      <th>2</th>\n",
       "      <td>M3A</td>\n",
       "      <td>North York</td>\n",
       "      <td>Parkwoods</td>\n",
       "    </tr>\n",
       "    <tr>\n",
       "      <th>3</th>\n",
       "      <td>M4A</td>\n",
       "      <td>North York</td>\n",
       "      <td>Victoria Village</td>\n",
       "    </tr>\n",
       "    <tr>\n",
       "      <th>4</th>\n",
       "      <td>M5A</td>\n",
       "      <td>Downtown Toronto</td>\n",
       "      <td>Harbourfront</td>\n",
       "    </tr>\n",
       "  </tbody>\n",
       "</table>\n",
       "</div>"
      ],
      "text/plain": [
       "  Postal Code           Borough      Neighborhood\n",
       "0         M1A      Not assigned      Not assigned\n",
       "1         M2A      Not assigned      Not assigned\n",
       "2         M3A        North York         Parkwoods\n",
       "3         M4A        North York  Victoria Village\n",
       "4         M5A  Downtown Toronto      Harbourfront"
      ]
     },
     "execution_count": 57,
     "metadata": {},
     "output_type": "execute_result"
    }
   ],
   "source": [
    "import pandas as pd\n",
    "postcodes = pd.DataFrame(newtable)\n",
    "postcodes.columns=[\"Postal Code\", \"Borough\", \"Neighborhood\"]\n",
    "postcodes.head()"
   ]
  },
  {
   "cell_type": "markdown",
   "metadata": {},
   "source": [
    "Remove all rows for which Borough is \"Not assigned\"."
   ]
  },
  {
   "cell_type": "code",
   "execution_count": 58,
   "metadata": {},
   "outputs": [
    {
     "data": {
      "text/html": [
       "<div>\n",
       "<style scoped>\n",
       "    .dataframe tbody tr th:only-of-type {\n",
       "        vertical-align: middle;\n",
       "    }\n",
       "\n",
       "    .dataframe tbody tr th {\n",
       "        vertical-align: top;\n",
       "    }\n",
       "\n",
       "    .dataframe thead th {\n",
       "        text-align: right;\n",
       "    }\n",
       "</style>\n",
       "<table border=\"1\" class=\"dataframe\">\n",
       "  <thead>\n",
       "    <tr style=\"text-align: right;\">\n",
       "      <th></th>\n",
       "      <th>Postal Code</th>\n",
       "      <th>Borough</th>\n",
       "      <th>Neighborhood</th>\n",
       "    </tr>\n",
       "  </thead>\n",
       "  <tbody>\n",
       "    <tr>\n",
       "      <th>2</th>\n",
       "      <td>M3A</td>\n",
       "      <td>North York</td>\n",
       "      <td>Parkwoods</td>\n",
       "    </tr>\n",
       "    <tr>\n",
       "      <th>3</th>\n",
       "      <td>M4A</td>\n",
       "      <td>North York</td>\n",
       "      <td>Victoria Village</td>\n",
       "    </tr>\n",
       "    <tr>\n",
       "      <th>4</th>\n",
       "      <td>M5A</td>\n",
       "      <td>Downtown Toronto</td>\n",
       "      <td>Harbourfront</td>\n",
       "    </tr>\n",
       "    <tr>\n",
       "      <th>5</th>\n",
       "      <td>M5A</td>\n",
       "      <td>Downtown Toronto</td>\n",
       "      <td>Regent Park</td>\n",
       "    </tr>\n",
       "    <tr>\n",
       "      <th>6</th>\n",
       "      <td>M6A</td>\n",
       "      <td>North York</td>\n",
       "      <td>Lawrence Heights</td>\n",
       "    </tr>\n",
       "  </tbody>\n",
       "</table>\n",
       "</div>"
      ],
      "text/plain": [
       "  Postal Code           Borough      Neighborhood\n",
       "2         M3A        North York         Parkwoods\n",
       "3         M4A        North York  Victoria Village\n",
       "4         M5A  Downtown Toronto      Harbourfront\n",
       "5         M5A  Downtown Toronto       Regent Park\n",
       "6         M6A        North York  Lawrence Heights"
      ]
     },
     "execution_count": 58,
     "metadata": {},
     "output_type": "execute_result"
    }
   ],
   "source": [
    "postcodes = postcodes[postcodes.Borough != \"Not assigned\"]\n",
    "postcodes.head()"
   ]
  },
  {
   "cell_type": "markdown",
   "metadata": {},
   "source": [
    "For any remaining row where \"Neighborhood\" is not assigned, give \"Neighborhood\" the value of \"Borough\"."
   ]
  },
  {
   "cell_type": "code",
   "execution_count": 124,
   "metadata": {},
   "outputs": [
    {
     "data": {
      "text/html": [
       "<div>\n",
       "<style scoped>\n",
       "    .dataframe tbody tr th:only-of-type {\n",
       "        vertical-align: middle;\n",
       "    }\n",
       "\n",
       "    .dataframe tbody tr th {\n",
       "        vertical-align: top;\n",
       "    }\n",
       "\n",
       "    .dataframe thead th {\n",
       "        text-align: right;\n",
       "    }\n",
       "</style>\n",
       "<table border=\"1\" class=\"dataframe\">\n",
       "  <thead>\n",
       "    <tr style=\"text-align: right;\">\n",
       "      <th></th>\n",
       "      <th>Postal Code</th>\n",
       "      <th>Borough</th>\n",
       "      <th>Neighborhood</th>\n",
       "    </tr>\n",
       "  </thead>\n",
       "  <tbody>\n",
       "    <tr>\n",
       "      <th>0</th>\n",
       "      <td>M3A</td>\n",
       "      <td>North York</td>\n",
       "      <td>Parkwoods</td>\n",
       "    </tr>\n",
       "    <tr>\n",
       "      <th>1</th>\n",
       "      <td>M4A</td>\n",
       "      <td>North York</td>\n",
       "      <td>Victoria Village</td>\n",
       "    </tr>\n",
       "    <tr>\n",
       "      <th>2</th>\n",
       "      <td>M5A</td>\n",
       "      <td>Downtown Toronto</td>\n",
       "      <td>Harbourfront</td>\n",
       "    </tr>\n",
       "    <tr>\n",
       "      <th>3</th>\n",
       "      <td>M5A</td>\n",
       "      <td>Downtown Toronto</td>\n",
       "      <td>Regent Park</td>\n",
       "    </tr>\n",
       "    <tr>\n",
       "      <th>4</th>\n",
       "      <td>M6A</td>\n",
       "      <td>North York</td>\n",
       "      <td>Lawrence Heights</td>\n",
       "    </tr>\n",
       "  </tbody>\n",
       "</table>\n",
       "</div>"
      ],
      "text/plain": [
       "  Postal Code           Borough      Neighborhood\n",
       "0         M3A        North York         Parkwoods\n",
       "1         M4A        North York  Victoria Village\n",
       "2         M5A  Downtown Toronto      Harbourfront\n",
       "3         M5A  Downtown Toronto       Regent Park\n",
       "4         M6A        North York  Lawrence Heights"
      ]
     },
     "execution_count": 124,
     "metadata": {},
     "output_type": "execute_result"
    }
   ],
   "source": [
    "postcodes.loc[postcodes['Neighborhood'] == \"Not assigned\", 'Neighborhood'] = postcodes['Borough']\n",
    "postcodes.head()"
   ]
  },
  {
   "cell_type": "markdown",
   "metadata": {},
   "source": [
    "Next, group together rows which share a postal code - applying \"set\" to get only unique values."
   ]
  },
  {
   "cell_type": "code",
   "execution_count": 123,
   "metadata": {},
   "outputs": [
    {
     "data": {
      "text/html": [
       "<div>\n",
       "<style scoped>\n",
       "    .dataframe tbody tr th:only-of-type {\n",
       "        vertical-align: middle;\n",
       "    }\n",
       "\n",
       "    .dataframe tbody tr th {\n",
       "        vertical-align: top;\n",
       "    }\n",
       "\n",
       "    .dataframe thead th {\n",
       "        text-align: right;\n",
       "    }\n",
       "</style>\n",
       "<table border=\"1\" class=\"dataframe\">\n",
       "  <thead>\n",
       "    <tr style=\"text-align: right;\">\n",
       "      <th></th>\n",
       "      <th>Postal Code</th>\n",
       "      <th>Borough</th>\n",
       "      <th>Neighborhood</th>\n",
       "    </tr>\n",
       "  </thead>\n",
       "  <tbody>\n",
       "    <tr>\n",
       "      <th>0</th>\n",
       "      <td>M1B</td>\n",
       "      <td>Scarborough</td>\n",
       "      <td>Malvern, Rouge</td>\n",
       "    </tr>\n",
       "    <tr>\n",
       "      <th>1</th>\n",
       "      <td>M1C</td>\n",
       "      <td>Scarborough</td>\n",
       "      <td>Highland Creek, Rouge Hill, Port Union</td>\n",
       "    </tr>\n",
       "    <tr>\n",
       "      <th>2</th>\n",
       "      <td>M1E</td>\n",
       "      <td>Scarborough</td>\n",
       "      <td>Morningside, Guildwood, West Hill</td>\n",
       "    </tr>\n",
       "    <tr>\n",
       "      <th>3</th>\n",
       "      <td>M1G</td>\n",
       "      <td>Scarborough</td>\n",
       "      <td>Woburn</td>\n",
       "    </tr>\n",
       "    <tr>\n",
       "      <th>4</th>\n",
       "      <td>M1H</td>\n",
       "      <td>Scarborough</td>\n",
       "      <td>Cedarbrae</td>\n",
       "    </tr>\n",
       "  </tbody>\n",
       "</table>\n",
       "</div>"
      ],
      "text/plain": [
       "  Postal Code      Borough                            Neighborhood\n",
       "0         M1B  Scarborough                          Malvern, Rouge\n",
       "1         M1C  Scarborough  Highland Creek, Rouge Hill, Port Union\n",
       "2         M1E  Scarborough       Morningside, Guildwood, West Hill\n",
       "3         M1G  Scarborough                                  Woburn\n",
       "4         M1H  Scarborough                               Cedarbrae"
      ]
     },
     "execution_count": 123,
     "metadata": {},
     "output_type": "execute_result"
    }
   ],
   "source": [
    "postcodes_grouped = postcodes.groupby('Postal Code')['Borough', 'Neighborhood'].agg(lambda col: ', '.join(set(col)))\n",
    "postcodes_grouped.reset_index(inplace=True)\n",
    "postcodes_grouped.head()"
   ]
  },
  {
   "cell_type": "code",
   "execution_count": 106,
   "metadata": {},
   "outputs": [
    {
     "data": {
      "text/plain": [
       "(103, 3)"
      ]
     },
     "execution_count": 106,
     "metadata": {},
     "output_type": "execute_result"
    }
   ],
   "source": [
    "postcodes_grouped.shape"
   ]
  },
  {
   "cell_type": "code",
   "execution_count": 125,
   "metadata": {},
   "outputs": [
    {
     "data": {
      "text/html": [
       "<div>\n",
       "<style scoped>\n",
       "    .dataframe tbody tr th:only-of-type {\n",
       "        vertical-align: middle;\n",
       "    }\n",
       "\n",
       "    .dataframe tbody tr th {\n",
       "        vertical-align: top;\n",
       "    }\n",
       "\n",
       "    .dataframe thead th {\n",
       "        text-align: right;\n",
       "    }\n",
       "</style>\n",
       "<table border=\"1\" class=\"dataframe\">\n",
       "  <thead>\n",
       "    <tr style=\"text-align: right;\">\n",
       "      <th></th>\n",
       "      <th>Postal Code</th>\n",
       "      <th>Latitude</th>\n",
       "      <th>Longitude</th>\n",
       "    </tr>\n",
       "  </thead>\n",
       "  <tbody>\n",
       "    <tr>\n",
       "      <th>0</th>\n",
       "      <td>M1B</td>\n",
       "      <td>43.806686</td>\n",
       "      <td>-79.194353</td>\n",
       "    </tr>\n",
       "    <tr>\n",
       "      <th>1</th>\n",
       "      <td>M1C</td>\n",
       "      <td>43.784535</td>\n",
       "      <td>-79.160497</td>\n",
       "    </tr>\n",
       "    <tr>\n",
       "      <th>2</th>\n",
       "      <td>M1E</td>\n",
       "      <td>43.763573</td>\n",
       "      <td>-79.188711</td>\n",
       "    </tr>\n",
       "    <tr>\n",
       "      <th>3</th>\n",
       "      <td>M1G</td>\n",
       "      <td>43.770992</td>\n",
       "      <td>-79.216917</td>\n",
       "    </tr>\n",
       "    <tr>\n",
       "      <th>4</th>\n",
       "      <td>M1H</td>\n",
       "      <td>43.773136</td>\n",
       "      <td>-79.239476</td>\n",
       "    </tr>\n",
       "  </tbody>\n",
       "</table>\n",
       "</div>"
      ],
      "text/plain": [
       "  Postal Code   Latitude  Longitude\n",
       "0         M1B  43.806686 -79.194353\n",
       "1         M1C  43.784535 -79.160497\n",
       "2         M1E  43.763573 -79.188711\n",
       "3         M1G  43.770992 -79.216917\n",
       "4         M1H  43.773136 -79.239476"
      ]
     },
     "execution_count": 125,
     "metadata": {},
     "output_type": "execute_result"
    }
   ],
   "source": [
    "gscoords = pd.read_csv(\"Geospatial_Coordinates.csv\")\n",
    "gscoords.head()"
   ]
  },
  {
   "cell_type": "code",
   "execution_count": 121,
   "metadata": {},
   "outputs": [
    {
     "data": {
      "text/html": [
       "<div>\n",
       "<style scoped>\n",
       "    .dataframe tbody tr th:only-of-type {\n",
       "        vertical-align: middle;\n",
       "    }\n",
       "\n",
       "    .dataframe tbody tr th {\n",
       "        vertical-align: top;\n",
       "    }\n",
       "\n",
       "    .dataframe thead th {\n",
       "        text-align: right;\n",
       "    }\n",
       "</style>\n",
       "<table border=\"1\" class=\"dataframe\">\n",
       "  <thead>\n",
       "    <tr style=\"text-align: right;\">\n",
       "      <th></th>\n",
       "      <th>Postal Code</th>\n",
       "      <th>Borough</th>\n",
       "      <th>Neighborhood</th>\n",
       "      <th>Latitude</th>\n",
       "      <th>Longitude</th>\n",
       "    </tr>\n",
       "  </thead>\n",
       "  <tbody>\n",
       "    <tr>\n",
       "      <th>0</th>\n",
       "      <td>M1B</td>\n",
       "      <td>Scarborough</td>\n",
       "      <td>Malvern, Rouge</td>\n",
       "      <td>43.806686</td>\n",
       "      <td>-79.194353</td>\n",
       "    </tr>\n",
       "    <tr>\n",
       "      <th>1</th>\n",
       "      <td>M1C</td>\n",
       "      <td>Scarborough</td>\n",
       "      <td>Highland Creek, Rouge Hill, Port Union</td>\n",
       "      <td>43.784535</td>\n",
       "      <td>-79.160497</td>\n",
       "    </tr>\n",
       "    <tr>\n",
       "      <th>2</th>\n",
       "      <td>M1E</td>\n",
       "      <td>Scarborough</td>\n",
       "      <td>Morningside, Guildwood, West Hill</td>\n",
       "      <td>43.763573</td>\n",
       "      <td>-79.188711</td>\n",
       "    </tr>\n",
       "    <tr>\n",
       "      <th>3</th>\n",
       "      <td>M1G</td>\n",
       "      <td>Scarborough</td>\n",
       "      <td>Woburn</td>\n",
       "      <td>43.770992</td>\n",
       "      <td>-79.216917</td>\n",
       "    </tr>\n",
       "    <tr>\n",
       "      <th>4</th>\n",
       "      <td>M1H</td>\n",
       "      <td>Scarborough</td>\n",
       "      <td>Cedarbrae</td>\n",
       "      <td>43.773136</td>\n",
       "      <td>-79.239476</td>\n",
       "    </tr>\n",
       "  </tbody>\n",
       "</table>\n",
       "</div>"
      ],
      "text/plain": [
       "  Postal Code      Borough                            Neighborhood   Latitude  \\\n",
       "0         M1B  Scarborough                          Malvern, Rouge  43.806686   \n",
       "1         M1C  Scarborough  Highland Creek, Rouge Hill, Port Union  43.784535   \n",
       "2         M1E  Scarborough       Morningside, Guildwood, West Hill  43.763573   \n",
       "3         M1G  Scarborough                                  Woburn  43.770992   \n",
       "4         M1H  Scarborough                               Cedarbrae  43.773136   \n",
       "\n",
       "   Longitude  \n",
       "0 -79.194353  \n",
       "1 -79.160497  \n",
       "2 -79.188711  \n",
       "3 -79.216917  \n",
       "4 -79.239476  "
      ]
     },
     "execution_count": 121,
     "metadata": {},
     "output_type": "execute_result"
    }
   ],
   "source": [
    "toronto = postcodes_grouped.merge(gscoords, how = 'left', left_on = [\"Postal Code\"], right_on = [\"Postal Code\"])\n",
    "toronto.head()"
   ]
  },
  {
   "cell_type": "code",
   "execution_count": null,
   "metadata": {},
   "outputs": [],
   "source": []
  },
  {
   "cell_type": "code",
   "execution_count": null,
   "metadata": {},
   "outputs": [],
   "source": []
  }
 ],
 "metadata": {
  "kernelspec": {
   "display_name": "Python 3",
   "language": "python",
   "name": "python3"
  },
  "language_info": {
   "codemirror_mode": {
    "name": "ipython",
    "version": 3
   },
   "file_extension": ".py",
   "mimetype": "text/x-python",
   "name": "python",
   "nbconvert_exporter": "python",
   "pygments_lexer": "ipython3",
   "version": "3.6.5"
  }
 },
 "nbformat": 4,
 "nbformat_minor": 2
}
